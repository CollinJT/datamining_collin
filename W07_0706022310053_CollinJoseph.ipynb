{
 "cells": [
  {
   "cell_type": "markdown",
   "id": "d16d9af7",
   "metadata": {},
   "source": [
    "# W07 - Mall Customers Clustering\n",
    "**NIM: 0706022310053**\n",
    "**Name: Collin Joseph**\n",
    "\n",
    "---"
   ]
  },
  {
   "cell_type": "markdown",
   "id": "458f0591",
   "metadata": {},
   "source": [
    "## Part A: Data Understanding, Cleaning, Visualizations"
   ]
  },
  {
   "cell_type": "code",
   "execution_count": null,
   "id": "ccdb5026",
   "metadata": {},
   "outputs": [],
   "source": [
    "\n",
    "import pandas as pd\n",
    "import numpy as np\n",
    "import matplotlib.pyplot as plt\n",
    "\n",
    "# Load data\n",
    "url = \"https://raw.githubusercontent.com/NathaliaMinoque/datasets/refs/heads/main/mall_customers.csv\"\n",
    "df = pd.read_csv(url)\n",
    "\n",
    "df.head()\n"
   ]
  },
  {
   "cell_type": "code",
   "execution_count": null,
   "id": "e259d23e",
   "metadata": {},
   "outputs": [],
   "source": [
    "df.shape"
   ]
  },
  {
   "cell_type": "code",
   "execution_count": null,
   "id": "341bc60f",
   "metadata": {},
   "outputs": [],
   "source": [
    "df.info()"
   ]
  },
  {
   "cell_type": "code",
   "execution_count": null,
   "id": "0293dd96",
   "metadata": {},
   "outputs": [],
   "source": [
    "df.describe()"
   ]
  },
  {
   "cell_type": "markdown",
   "id": "1ddf7d92",
   "metadata": {},
   "source": [
    "### Check Missing Values & Duplicates"
   ]
  },
  {
   "cell_type": "code",
   "execution_count": null,
   "id": "6bf1a1bf",
   "metadata": {},
   "outputs": [],
   "source": [
    "\n",
    "df.isnull().sum(), df.duplicated().sum()\n"
   ]
  },
  {
   "cell_type": "markdown",
   "id": "138ce597",
   "metadata": {},
   "source": [
    "---\n",
    "## Part B: Data Transformation"
   ]
  },
  {
   "cell_type": "code",
   "execution_count": null,
   "id": "7d3efd88",
   "metadata": {},
   "outputs": [],
   "source": [
    "\n",
    "from sklearn.preprocessing import LabelEncoder, StandardScaler\n",
    "\n",
    "# Encoding Gender\n",
    "le = LabelEncoder()\n",
    "df['Gender'] = le.fit_transform(df['Gender'])\n",
    "\n",
    "# Scaling numeric features\n",
    "features = ['Age', 'Annual Income (k$)', 'Spending Score (1-100)']\n",
    "scaler = StandardScaler()\n",
    "df_scaled = df.copy()\n",
    "df_scaled[features] = scaler.fit_transform(df[features])\n",
    "\n",
    "df_scaled.head()\n"
   ]
  },
  {
   "cell_type": "markdown",
   "id": "b55171c5",
   "metadata": {},
   "source": [
    "---\n",
    "## Part C: Choosing K using Elbow Method"
   ]
  },
  {
   "cell_type": "code",
   "execution_count": null,
   "id": "ec9acc60",
   "metadata": {},
   "outputs": [],
   "source": [
    "\n",
    "from sklearn.cluster import KMeans\n",
    "\n",
    "wcss = []\n",
    "X = df_scaled[features]\n",
    "\n",
    "for k in range(2, 11):\n",
    "    kmeans = KMeans(n_clusters=k, random_state=42)\n",
    "    kmeans.fit(X)\n",
    "    wcss.append(kmeans.inertia_)\n",
    "\n",
    "plt.plot(range(2, 11), wcss)\n",
    "plt.xlabel(\"K\")\n",
    "plt.ylabel(\"WCSS\")\n",
    "plt.title(\"Elbow Method\")\n",
    "plt.show()\n"
   ]
  },
  {
   "cell_type": "markdown",
   "id": "3f46bc7d",
   "metadata": {},
   "source": [
    "---\n",
    "## Part D: Modeling K-Means"
   ]
  },
  {
   "cell_type": "code",
   "execution_count": null,
   "id": "f71e4609",
   "metadata": {},
   "outputs": [],
   "source": [
    "\n",
    "# Choose K manually after analyzing Elbow curve\n",
    "k_optimal = 5\n",
    "\n",
    "kmeans = KMeans(n_clusters=k_optimal, random_state=42)\n",
    "df_scaled['Cluster'] = kmeans.fit_predict(X)\n",
    "\n",
    "df_scaled.head()\n"
   ]
  },
  {
   "cell_type": "code",
   "execution_count": null,
   "id": "c466afeb",
   "metadata": {},
   "outputs": [],
   "source": [
    "\n",
    "# Visualization (2D)\n",
    "plt.scatter(df_scaled['Annual Income (k$)'], df_scaled['Spending Score (1-100)'], c=df_scaled['Cluster'])\n",
    "plt.xlabel(\"Annual Income (scaled)\")\n",
    "plt.ylabel(\"Spending Score (scaled)\")\n",
    "plt.title(\"Customer Segmentation\")\n",
    "plt.show()\n"
   ]
  },
  {
   "cell_type": "markdown",
   "id": "3b91f2b6",
   "metadata": {},
   "source": [
    "---\n",
    "## Part E: Cluster Profiling & Insights"
   ]
  },
  {
   "cell_type": "code",
   "execution_count": null,
   "id": "0da72e37",
   "metadata": {},
   "outputs": [],
   "source": [
    "\n",
    "df_scaled.groupby('Cluster')[['Age', 'Annual Income (k$)', 'Spending Score (1-100)', 'Gender']].mean()\n"
   ]
  },
  {
   "cell_type": "markdown",
   "id": "3f1c4b81",
   "metadata": {},
   "source": [
    "### Write personas and managerial implications here:\n",
    "- Cluster 0: ...\n",
    "- Cluster 1: ...\n",
    "- etc."
   ]
  }
 ],
 "metadata": {},
 "nbformat": 4,
 "nbformat_minor": 5
}
